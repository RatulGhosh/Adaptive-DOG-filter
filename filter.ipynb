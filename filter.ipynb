{
 "cells": [
  {
   "cell_type": "code",
   "execution_count": 3,
   "metadata": {
    "collapsed": true
   },
   "outputs": [],
   "source": [
    "import cv2\n",
    "import numpy as np\n",
    "from matplotlib import pyplot as plt\n",
    "\n",
    "img = cv2.imread('leaf.png')\n",
    "\n",
    "blur = cv2.GaussianBlur(img,(5,5),0)\n",
    "\n",
    "plt.subplot(121),plt.imshow(img),plt.title('Original')\n",
    "plt.xticks([]), plt.yticks([])\n",
    "plt.subplot(122),plt.imshow(blur),plt.title('Blurred')\n",
    "plt.xticks([]), plt.yticks([])\n",
    "plt.show()"
   ]
  },
  {
   "cell_type": "code",
   "execution_count": 12,
   "metadata": {
    "collapsed": false
   },
   "outputs": [],
   "source": [
    "import cv2\n",
    "import numpy as np\n",
    "from matplotlib import pyplot as plt\n",
    "\n",
    "img = cv2.imread('leaf.png')\n",
    "mean = np.mean(img)\n",
    "\n",
    "blur1 = cv2.GaussianBlur(img,(3,3),0)\n",
    "blur2 = cv2.GaussianBlur(img,(11,11),0)\n",
    "blur = (blur1/2)+(blur2/2)\n",
    "\n",
    "plt.subplot(121),plt.imshow(img),plt.title('Original')\n",
    "plt.xticks([]), plt.yticks([])\n",
    "plt.subplot(122),plt.imshow(blur),plt.title('Blurred')\n",
    "plt.xticks([]), plt.yticks([])\n",
    "plt.show()"
   ]
  },
  {
   "cell_type": "code",
   "execution_count": 13,
   "metadata": {
    "collapsed": true
   },
   "outputs": [],
   "source": [
    "import cv2\n",
    "import numpy as np\n",
    "from matplotlib import pyplot as plt\n",
    "\n",
    "img = cv2.imread('leaf.png')\n",
    "\n",
    "blur = cv2.bilateralFilter(img,9,75,75)\n",
    "\n",
    "plt.subplot(121),plt.imshow(img),plt.title('Original')\n",
    "plt.xticks([]), plt.yticks([])\n",
    "plt.subplot(122),plt.imshow(blur),plt.title('Blurred')\n",
    "plt.xticks([]), plt.yticks([])\n",
    "plt.show()"
   ]
  },
  {
   "cell_type": "code",
   "execution_count": 120,
   "metadata": {
    "collapsed": true
   },
   "outputs": [],
   "source": [
    "import cv2\n",
    "import numpy as np\n",
    "from matplotlib import pyplot as plt\n",
    "\n",
    "img = cv2.imread('leaf.png',0)\n",
    "\n",
    "# Output dtype = cv2.CV_8U\n",
    "sobelx8u = cv2.Sobel(img,cv2.CV_8U,1,0,ksize=5)\n",
    "\n",
    "# Output dtype = cv2.CV_64F. Then take its absolute and convert to cv2.CV_8U\n",
    "sobelx64f = cv2.Sobel(img,cv2.CV_64F,1,0,ksize=5)\n",
    "abs_sobel64f = np.absolute(sobelx64f)\n",
    "sobel_8u = np.uint8(abs_sobel64f)\n",
    "\n",
    "plt.subplot(1,3,1),plt.imshow(img,cmap = 'gray')\n",
    "plt.title('Original'), plt.xticks([]), plt.yticks([])\n",
    "plt.subplot(1,3,2),plt.imshow(sobelx8u,cmap = 'gray')\n",
    "plt.title('Sobel CV_8U'), plt.xticks([]), plt.yticks([])\n",
    "plt.subplot(1,3,3),plt.imshow(sobel_8u,cmap = 'gray')\n",
    "plt.title('Sobel abs(CV_64F)'), plt.xticks([]), plt.yticks([])\n",
    "\n",
    "plt.show()"
   ]
  },
  {
   "cell_type": "code",
   "execution_count": 35,
   "metadata": {
    "collapsed": false
   },
   "outputs": [
    {
     "name": "stderr",
     "output_type": "stream",
     "text": [
      "C:\\Users\\Ratul\\Anaconda2\\envs\\dato-env\\lib\\site-packages\\ipykernel\\__main__.py:41: RuntimeWarning: divide by zero encountered in divide\n"
     ]
    },
    {
     "data": {
      "text/plain": [
       "\"cv2.imshow('image',img)\\ncv2.waitKey(0)\\ncv2.destroyAllWindows()\""
      ]
     },
     "execution_count": 35,
     "metadata": {},
     "output_type": "execute_result"
    }
   ],
   "source": [
    "import cv2\n",
    "import numpy as np\n",
    "from matplotlib import pyplot as plt\n",
    "\n",
    "def function():\n",
    "    \n",
    "    #print img.shape\n",
    "    for i in range(0,img.shape[0]):\n",
    "        for j in range(0,img.shape[1]):\n",
    "            for k in range(0,img.shape[2]):\n",
    "                if(gradient_mag[i,j,k] > mean):\n",
    "                    img[i,j,k]=sharp_dog[i,j,k]\n",
    "                else:\n",
    "                    img[i,j,k]=blur_dog[i,j,k]\n",
    "    #return img\n",
    "    \n",
    "def function1():\n",
    "    for i in range(0,3):\n",
    "        img[:,:,i] = np.multiply(gamma,img[:,:,i])\n",
    "\n",
    "\n",
    "original = cv2.imread('leaf.png')\n",
    "img = original\n",
    "bilateral = cv2.bilateralFilter(img,9,75,75)\n",
    "gauss = cv2.GaussianBlur(img,(5,5),0)\n",
    "\n",
    "sobelx = cv2.Sobel(img,cv2.CV_64F,1,0,ksize=5)\n",
    "sobely = cv2.Sobel(img,cv2.CV_64F,0,1,ksize=5)\n",
    "gradient_mag = np.sqrt(np.square(sobelx)+np.square(sobely))\n",
    "mean = np.mean(gradient_mag)\n",
    "sharp = cv2.GaussianBlur(img,(3,3),0)\n",
    "blur = cv2.GaussianBlur(img,(9,9),0)\n",
    "sharp_dog = sharp - blur\n",
    "\n",
    "sharp1 = cv2.GaussianBlur(img,(9,9),0)\n",
    "blur1 = cv2.GaussianBlur(img,(27,27),0)\n",
    "blur_dog = sharp1 - blur1\n",
    "\n",
    "a = sharp_dog[:,:,0]+sharp_dog[:,:,1]+sharp_dog[:,:,2]\n",
    "b = blur_dog[:,:,0]+blur_dog[:,:,1]+blur_dog[:,:,2]\n",
    "gamma = np.divide(a,b)\n",
    "         \n",
    "\n",
    "\n",
    "function()\n",
    "#function1()\n",
    "\n",
    "plt.subplot(141),plt.imshow(cv2.imread('leaf.png')),plt.title('Original')\n",
    "plt.xticks([]), plt.yticks([])\n",
    "plt.subplot(142),plt.imshow(img),plt.title('A-DOG')\n",
    "plt.xticks([]), plt.yticks([])\n",
    "plt.subplot(243),plt.imshow(bilateral),plt.title('Bilateral')\n",
    "plt.xticks([]), plt.yticks([])\n",
    "plt.subplot(244),plt.imshow(gauss),plt.title('Gaussian')\n",
    "plt.xticks([]), plt.yticks([])\n",
    "plt.show()\n",
    "\n",
    "\n",
    "\n",
    "'''cv2.imshow('image',img)\n",
    "cv2.waitKey(0)\n",
    "cv2.destroyAllWindows()'''"
   ]
  },
  {
   "cell_type": "code",
   "execution_count": 34,
   "metadata": {
    "collapsed": false
   },
   "outputs": [
    {
     "name": "stderr",
     "output_type": "stream",
     "text": [
      "C:\\Users\\Ratul\\Anaconda2\\envs\\dato-env\\lib\\site-packages\\ipykernel\\__main__.py:1: RuntimeWarning: divide by zero encountered in divide\n",
      "  if __name__ == '__main__':\n"
     ]
    },
    {
     "data": {
      "text/plain": [
       "array([0, 0])"
      ]
     },
     "execution_count": 34,
     "metadata": {},
     "output_type": "execute_result"
    }
   ],
   "source": [
    "np.divide(np.array([0, 1], dtype=int), np.array([0, 0], dtype=int))\n"
   ]
  },
  {
   "cell_type": "code",
   "execution_count": 113,
   "metadata": {
    "collapsed": false
   },
   "outputs": [
    {
     "data": {
      "text/plain": [
       "(179.63143888888888,\n",
       " 755.01311331099953,\n",
       " 179.63143888888888,\n",
       " 179.59517222222223,\n",
       " 179.59634166666666,\n",
       " array([ 88, 184, 134], dtype=uint8),\n",
       " array([ 88, 184, 134], dtype=uint8))"
      ]
     },
     "execution_count": 113,
     "metadata": {},
     "output_type": "execute_result"
    }
   ],
   "source": [
    "np.mean(original),mean,np.mean(img),np.mean(sharp),np.mean(blur),original[200,200],img[200,200]"
   ]
  },
  {
   "cell_type": "code",
   "execution_count": 1,
   "metadata": {
    "collapsed": false
   },
   "outputs": [
    {
     "name": "stderr",
     "output_type": "stream",
     "text": [
      "C:\\Users\\Ratul\\Anaconda2\\envs\\dato-env\\lib\\site-packages\\ipykernel\\__main__.py:49: RuntimeWarning: divide by zero encountered in true_divide\n",
      "C:\\Users\\Ratul\\Anaconda2\\envs\\dato-env\\lib\\site-packages\\ipykernel\\__main__.py:49: RuntimeWarning: invalid value encountered in true_divide\n",
      "C:\\Users\\Ratul\\Anaconda2\\envs\\dato-env\\lib\\site-packages\\ipykernel\\__main__.py:54: RuntimeWarning: invalid value encountered in multiply\n"
     ]
    }
   ],
   "source": [
    "import cv2\n",
    "import numpy as np\n",
    "from matplotlib import pyplot as plt\n",
    "\n",
    "def function():\n",
    "    \n",
    "\n",
    "    for i in range(0,img.shape[0]):\n",
    "        for j in range(0,img.shape[1]):\n",
    "            for k in range(0,img.shape[2]):\n",
    "                if(gradient_mag[i,j,k] > mean):\n",
    "                    img[i,j,k]=sharp_dog[i,j,k]\n",
    "                else:\n",
    "                    img[i,j,k]=blur_dog[i,j,k]\n",
    "                    \n",
    "def floor():\n",
    "    \n",
    "    for i in range(0,img.shape[0]):\n",
    "        for j in range(0,img.shape[1]):\n",
    "            for k in range(0,img.shape[2]):\n",
    "                if(img[i,j,k] > 255):\n",
    "                    img[i,j,k] = 255\n",
    "                    \n",
    "\n",
    "\n",
    "original = cv2.imread('leaf.png')\n",
    "img = original.astype('uint16')\n",
    "c1  = cv2.imread('leaf.png')[:,:,0]\n",
    "c2  = cv2.imread('leaf.png')[:,:,1]\n",
    "c3  = cv2.imread('leaf.png')[:,:,2]\n",
    "\n",
    "bilateral = cv2.bilateralFilter(original,13,75,75)\n",
    "gauss = cv2.GaussianBlur(original,(5,5),0)\n",
    "\n",
    "sobelx = cv2.Sobel(original,cv2.CV_64F,1,0,ksize=5)\n",
    "sobely = cv2.Sobel(original,cv2.CV_64F,0,1,ksize=5)\n",
    "gradient_mag = np.sqrt(np.square(sobelx)+np.square(sobely))\n",
    "mean = np.mean(gradient_mag)\n",
    "sharp = cv2.GaussianBlur(original,(3,3),0)\n",
    "blur = cv2.GaussianBlur(original,(9,9),0)\n",
    "sharp_dog = (sharp/2) + (blur/2)\n",
    "\n",
    "sharp1 = cv2.GaussianBlur(original,(9,9),0)\n",
    "blur1 = cv2.GaussianBlur(original,(27,27),0)\n",
    "blur_dog = (sharp1/2) + (blur1/2)\n",
    "\n",
    "a = sharp_dog[:,:,0] + sharp_dog[:,:,1] + sharp_dog[:,:,2]\n",
    "b = blur_dog[:,:,0] + blur_dog[:,:,1] + blur_dog[:,:,2]\n",
    "gamma = np.true_divide(a,b)\n",
    "\n",
    "function()\n",
    " \n",
    "\n",
    "img[:,:,0] = np.multiply(c1,gamma)\n",
    "img[:,:,1] = np.multiply(c2,gamma)\n",
    "img[:,:,2] = np.multiply(c3,gamma)\n",
    "\n",
    "\n",
    "floor()\n",
    "img = img.astype('uint8')\n",
    "\n",
    "plt.subplot(141),plt.imshow(cv2.imread('leaf.png')),plt.title('Original')\n",
    "plt.xticks([]), plt.yticks([])\n",
    "plt.subplot(142),plt.imshow(img),plt.title('A-DOG')\n",
    "plt.xticks([]), plt.yticks([])\n",
    "plt.subplot(243),plt.imshow(bilateral),plt.title('Bilateral')\n",
    "plt.xticks([]), plt.yticks([])\n",
    "plt.subplot(244),plt.imshow(gauss),plt.title('Gaussian')\n",
    "plt.xticks([]), plt.yticks([])\n",
    "plt.show()\n",
    "\n"
   ]
  },
  {
   "cell_type": "code",
   "execution_count": 140,
   "metadata": {
    "collapsed": false
   },
   "outputs": [
    {
     "data": {
      "text/plain": [
       "(250,\n",
       " 247,\n",
       " 1.0121457489878543,\n",
       " array([258, 258, 258], dtype=uint16),\n",
       " 255,\n",
       " array([255, 255, 255], dtype=uint8))"
      ]
     },
     "execution_count": 140,
     "metadata": {},
     "output_type": "execute_result"
    }
   ],
   "source": [
    "a[236,499],b[236,499],gamma[236,499],img[236,499],c1[236,499],cv2.imread('leaf.png')[236,499]"
   ]
  },
  {
   "cell_type": "code",
   "execution_count": 121,
   "metadata": {
    "collapsed": false
   },
   "outputs": [
    {
     "data": {
      "text/plain": [
       "((240L, 500L, 3L), array([[[255, 255, 255],\n",
       "         [255, 255, 255],\n",
       "         [255, 255, 255],\n",
       "         ..., \n",
       "         [255, 255, 255],\n",
       "         [255, 255, 255],\n",
       "         [255, 255, 255]],\n",
       " \n",
       "        [[255, 255, 255],\n",
       "         [255, 255, 255],\n",
       "         [255, 255, 255],\n",
       "         ..., \n",
       "         [255, 255, 255],\n",
       "         [255, 255, 255],\n",
       "         [255, 255, 255]],\n",
       " \n",
       "        [[255, 255, 255],\n",
       "         [255, 255, 255],\n",
       "         [255, 255, 255],\n",
       "         ..., \n",
       "         [255, 255, 255],\n",
       "         [255, 255, 255],\n",
       "         [255, 255, 255]],\n",
       " \n",
       "        ..., \n",
       "        [[255, 255, 255],\n",
       "         [255, 255, 255],\n",
       "         [255, 255, 255],\n",
       "         ..., \n",
       "         [255, 255, 255],\n",
       "         [255, 255, 255],\n",
       "         [255, 255, 255]],\n",
       " \n",
       "        [[255, 255, 255],\n",
       "         [255, 255, 255],\n",
       "         [255, 255, 255],\n",
       "         ..., \n",
       "         [255, 255, 255],\n",
       "         [255, 255, 255],\n",
       "         [255, 255, 255]],\n",
       " \n",
       "        [[255, 255, 255],\n",
       "         [255, 255, 255],\n",
       "         [255, 255, 255],\n",
       "         ..., \n",
       "         [255, 255, 255],\n",
       "         [255, 255, 255],\n",
       "         [255, 255, 255]]], dtype=uint16))"
      ]
     },
     "execution_count": 121,
     "metadata": {},
     "output_type": "execute_result"
    }
   ],
   "source": [
    "np.array(img).shape, img"
   ]
  }
 ],
 "metadata": {
  "kernelspec": {
   "display_name": "Python 2",
   "language": "python",
   "name": "python2"
  },
  "language_info": {
   "codemirror_mode": {
    "name": "ipython",
    "version": 2
   },
   "file_extension": ".py",
   "mimetype": "text/x-python",
   "name": "python",
   "nbconvert_exporter": "python",
   "pygments_lexer": "ipython2",
   "version": "2.7.11"
  }
 },
 "nbformat": 4,
 "nbformat_minor": 0
}
